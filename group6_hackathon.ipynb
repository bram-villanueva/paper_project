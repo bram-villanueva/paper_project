{
 "cells": [
  {
   "cell_type": "code",
   "execution_count": null,
   "id": "bc3e8915-2d1e-4ce3-86b1-5a44572104a6",
   "metadata": {},
   "outputs": [],
   "source": [
    "#group6, basic prep\n",
    "\n",
    "%matplotlib inline\n",
    "import matplotlib\n",
    "import os              # This provides several system utilities\n",
    "import pandas as pd    # This is the workhorse of data munging in Python\n",
    "import numpy as np     # This is for general numerical operations \n",
    "import seaborn as sns  # This allows us to efficiently and beautifully plot\n",
    "import networkx as nx  \n",
    "import osmnx as ox\n",
    "import statsmodels.api as sm\n",
    "import matplotlib.pyplot as plt\n",
    "\n",
    "# display settings (optional)\n",
    "pd.set_option('display.max_columns', 50)\n",
    "pd.set_option('display.width', 120)"
   ]
  },
  {
   "cell_type": "code",
   "execution_count": 1,
   "id": "9c232253-4d93-4c9e-a039-dc8d57ece606",
   "metadata": {},
   "outputs": [
    {
     "ename": "NameError",
     "evalue": "name 'pd' is not defined",
     "output_type": "error",
     "traceback": [
      "\u001b[1;31m---------------------------------------------------------------------------\u001b[0m",
      "\u001b[1;31mNameError\u001b[0m                                 Traceback (most recent call last)",
      "Cell \u001b[1;32mIn[1], line 5\u001b[0m\n\u001b[0;32m      2\u001b[0m infodir \u001b[38;5;241m=\u001b[39m \u001b[38;5;124mr\u001b[39m\u001b[38;5;124m'\u001b[39m\u001b[38;5;124mC:\u001b[39m\u001b[38;5;124m\\\u001b[39m\u001b[38;5;124mUsers\u001b[39m\u001b[38;5;124m\\\u001b[39m\u001b[38;5;124mEPRO\u001b[39m\u001b[38;5;124m\\\u001b[39m\u001b[38;5;124mOneDrive - Wageningen University & Research\u001b[39m\u001b[38;5;124m\\\u001b[39m\u001b[38;5;124mCourse Channel Metropolitan Challenges 2025 - Paper Group 6 Parking space vs Food Space\u001b[39m\u001b[38;5;124m'\u001b[39m\n\u001b[0;32m      3\u001b[0m fname \u001b[38;5;241m=\u001b[39m infodir \u001b[38;5;241m+\u001b[39m \u001b[38;5;124mr\u001b[39m\u001b[38;5;124m'\u001b[39m\u001b[38;5;124m\\\u001b[39m\u001b[38;5;124mdata\u001b[39m\u001b[38;5;124m\\\u001b[39m\u001b[38;5;124mbuurten_filtered.csv\u001b[39m\u001b[38;5;124m'\u001b[39m\n\u001b[1;32m----> 5\u001b[0m g6h01 \u001b[38;5;241m=\u001b[39m \u001b[43mpd\u001b[49m\u001b[38;5;241m.\u001b[39mread_csv(fname)\n\u001b[0;32m      6\u001b[0m \u001b[38;5;66;03m#this is to verify\u001b[39;00m\n\u001b[0;32m      7\u001b[0m g6h01\u001b[38;5;241m.\u001b[39mhead()\n",
      "\u001b[1;31mNameError\u001b[0m: name 'pd' is not defined"
     ]
    }
   ],
   "source": [
    "#for the import process, next step is to create a string variable containing the directory of the file and a file name variable\n",
    "infodir = r'C:\\Users\\EPRO\\OneDrive - Wageningen University & Research\\Course Channel Metropolitan Challenges 2025 - Paper Group 6 Parking space vs Food Space'\n",
    "fname = infodir + r'\\data\\FILE_TO_REPLACE.csv'\n",
    "\n",
    "g6h01 = pd.read_csv(fname)\n",
    "#this is to verify\n",
    "g6h01.head()"
   ]
  },
  {
   "cell_type": "code",
   "execution_count": null,
   "id": "e94353ea-609d-40aa-92b7-f3c7c656adbf",
   "metadata": {},
   "outputs": [],
   "source": [
    "#Group6 dropping some rows according to some criteria\n",
    "g6h01_1 = g6h01[g6h01['REPLACE0'] == 'COMMON VALUE']\n",
    "#Rearrange some columns for easier reading\n",
    "g6h01_1 = g6h01_1[['REPLACE', 'REPLACE', 'REPLACE', 'REPLACE'] + [col for col in g6h01_1.columns if col not in ['OBJECTNUMMER', 'Wijken', 'BRT_code', 'BRT_name']]]\n",
    "g6h01_1.head()"
   ]
  },
  {
   "cell_type": "code",
   "execution_count": null,
   "id": "1da86ca5-0d93-4a28-b1e0-f3f1dfbde73a",
   "metadata": {},
   "outputs": [],
   "source": [
    "#group6 is purging according to some criteria\n",
    "g6h01_2 = g6h01_1[(g6h01_1['REPLACE1'] <= 150) & (g6h01_1['REPLACE2'] <= 150)]\n",
    "#we had prepared the db to be ordered in this point, but after getting the second database,\n",
    "#it will be better to do that after the merger\n",
    "## gpdf01_2 = gpdf01_2.sort_values(by=[\"Netto_PKD\", \"Bruto_PKD\"], ascending=[False, True])\n",
    "g6h01_2.head(10)"
   ]
  },
  {
   "cell_type": "code",
   "execution_count": null,
   "id": "d91db1ce-3936-4d31-881a-183181bfc8a7",
   "metadata": {},
   "outputs": [],
   "source": [
    "#sorting the charts ascending"
   ]
  },
  {
   "cell_type": "code",
   "execution_count": null,
   "id": "a2d8b494-e1a8-4a4c-9ae9-0777a30b3681",
   "metadata": {},
   "outputs": [],
   "source": [
    "#sortinf the charts descending"
   ]
  },
  {
   "cell_type": "code",
   "execution_count": null,
   "id": "f0ee7e50-cbb9-4b02-8446-ddcbcea2cebe",
   "metadata": {},
   "outputs": [],
   "source": [
    "#area for plotting some graphs"
   ]
  },
  {
   "cell_type": "code",
   "execution_count": null,
   "id": "6e1aa004-2294-47c0-9076-e3fef16ba4fc",
   "metadata": {},
   "outputs": [],
   "source": [
    "#perhaps a map here"
   ]
  },
  {
   "cell_type": "code",
   "execution_count": null,
   "id": "14fe017c-a735-4225-9aaa-59d7747193f7",
   "metadata": {},
   "outputs": [],
   "source": [
    "#prepping OLS with one regressor\n",
    "# 1) Add constant\n",
    "X = g6h01_2.add_constant(g6h01_2[['indvr1']])\n",
    "y = g6h01_2['dpnvr']\n",
    "\n",
    "# 2) Fit model\n",
    "model_simple = sm.OLS(y, X).fit()\n",
    "\n",
    "# 3) Inspect results\n",
    "print(model_simple.summary())"
   ]
  },
  {
   "cell_type": "code",
   "execution_count": null,
   "id": "58b5f2ae-7ccf-40bd-af4b-93d8f1421742",
   "metadata": {},
   "outputs": [],
   "source": [
    "#preparing the analysis with multiple variables\n",
    "features = ['indvr1', 'indvr2', 'indvr3', 'indvr4', 'indvr5', 'indvr6']\n",
    "X_multi = sm.add_constant(g6h01_2[features])\n",
    "y = g6h01_2['dpnvr']\n",
    "\n",
    "model_multi = sm.OLS(y, X_multi).fit()\n",
    "print(model_multi.summary())\n"
   ]
  },
  {
   "cell_type": "code",
   "execution_count": null,
   "id": "ca115b24-6df3-4fb5-824e-941c489a8b5e",
   "metadata": {},
   "outputs": [],
   "source": [
    "#adding the quadratic term\n",
    "g6h01_2[''] = g6h01_2['']**2\n",
    "features_quad = ['', '', '', '', '', '', '']\n",
    "X_quad = sm.add_constant(g6h01_2[features_quad])\n",
    "model_quad = sm.OLS(y, X_quad).fit()\n",
    "print(model_quad.summary())\n",
    "\n",
    "# Example: marginal effect of temperature at 10°C is beta_tmax + 2*beta_tmax2*10\n",
    "beta_t = model_quad.params['']\n",
    "beta_t2 = model_quad.params['']\n",
    "me_10 = beta_t + 2*beta_t2*10\n",
    "me_20 = beta_t + 2*beta_t2*20\n",
    "print(f'Marginal effect of something1: {me_10:.2f} dpnvr')\n",
    "print(f'Marginal effect of something2: {me_20:.2f} dpnvr')"
   ]
  },
  {
   "cell_type": "code",
   "execution_count": null,
   "id": "339ab7b0-9d5b-4995-b2de-7a39a158d2b2",
   "metadata": {},
   "outputs": [],
   "source": [
    "# Observed vs Predicted\n",
    "y_pred = model_quad.fittedvalues\n",
    "\n",
    "plt.figure()\n",
    "plt.scatter(y_pred, y)\n",
    "plt.xlabel('Future green area if intervined')\n",
    "plt.ylabel('Current green area')\n",
    "plt.title('Current vs Future (quadratic model)')\n",
    "plt.show()\n",
    "\n",
    "# Residuals vs Fitted\n",
    "resid = model_quad.resid\n",
    "plt.figure()\n",
    "plt.scatter(y_pred, resid)\n",
    "plt.axhline(0)\n",
    "plt.xlabel('Fitted values')\n",
    "plt.ylabel('Residuals')\n",
    "plt.title('Residuals vs Fitted (quadratic model)')\n",
    "plt.show()\n",
    "\n",
    "print('R^2:', model_quad.rsquared)\n",
    "print('Adj. R^2:', model_quad.rsquared_adj)\n",
    "print('RMSE:', np.sqrt((resid**2).mean()))\n"
   ]
  }
 ],
 "metadata": {
  "kernelspec": {
   "display_name": "Python 3 (ipykernel)",
   "language": "python",
   "name": "python3"
  },
  "language_info": {
   "codemirror_mode": {
    "name": "ipython",
    "version": 3
   },
   "file_extension": ".py",
   "mimetype": "text/x-python",
   "name": "python",
   "nbconvert_exporter": "python",
   "pygments_lexer": "ipython3",
   "version": "3.10.18"
  }
 },
 "nbformat": 4,
 "nbformat_minor": 5
}
